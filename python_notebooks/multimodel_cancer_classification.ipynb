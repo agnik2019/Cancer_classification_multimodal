{
  "nbformat": 4,
  "nbformat_minor": 0,
  "metadata": {
    "colab": {
      "provenance": [],
      "gpuType": "T4"
    },
    "kernelspec": {
      "name": "python3",
      "display_name": "Python 3"
    },
    "language_info": {
      "name": "python"
    },
    "accelerator": "GPU"
  },
  "cells": [
    {
      "cell_type": "code",
      "source": [
        "!pip install ftfy regex tqdm\n",
        "!pip install git+https://github.com/openai/CLIP.git\n",
        "!pip install pyarrow"
      ],
      "metadata": {
        "id": "MBeALCe6lXHl",
        "colab": {
          "base_uri": "https://localhost:8080/"
        },
        "outputId": "d39abac9-aedd-4e43-a81d-3bf777ae45d2"
      },
      "execution_count": 1,
      "outputs": [
        {
          "output_type": "stream",
          "name": "stdout",
          "text": [
            "Looking in indexes: https://pypi.org/simple, https://us-python.pkg.dev/colab-wheels/public/simple/\n",
            "Collecting ftfy\n",
            "  Downloading ftfy-6.1.1-py3-none-any.whl (53 kB)\n",
            "\u001b[2K     \u001b[90m━━━━━━━━━━━━━━━━━━━━━━━━━━━━━━━━━━━━━━━━\u001b[0m \u001b[32m53.1/53.1 kB\u001b[0m \u001b[31m7.3 MB/s\u001b[0m eta \u001b[36m0:00:00\u001b[0m\n",
            "\u001b[?25hRequirement already satisfied: regex in /usr/local/lib/python3.10/dist-packages (2022.10.31)\n",
            "Requirement already satisfied: tqdm in /usr/local/lib/python3.10/dist-packages (4.65.0)\n",
            "Requirement already satisfied: wcwidth>=0.2.5 in /usr/local/lib/python3.10/dist-packages (from ftfy) (0.2.6)\n",
            "Installing collected packages: ftfy\n",
            "Successfully installed ftfy-6.1.1\n",
            "Looking in indexes: https://pypi.org/simple, https://us-python.pkg.dev/colab-wheels/public/simple/\n",
            "Collecting git+https://github.com/openai/CLIP.git\n",
            "  Cloning https://github.com/openai/CLIP.git to /tmp/pip-req-build-dpofwc01\n",
            "  Running command git clone --filter=blob:none --quiet https://github.com/openai/CLIP.git /tmp/pip-req-build-dpofwc01\n",
            "  Resolved https://github.com/openai/CLIP.git to commit a9b1bf5920416aaeaec965c25dd9e8f98c864f16\n",
            "  Preparing metadata (setup.py) ... \u001b[?25l\u001b[?25hdone\n",
            "Requirement already satisfied: ftfy in /usr/local/lib/python3.10/dist-packages (from clip==1.0) (6.1.1)\n",
            "Requirement already satisfied: regex in /usr/local/lib/python3.10/dist-packages (from clip==1.0) (2022.10.31)\n",
            "Requirement already satisfied: tqdm in /usr/local/lib/python3.10/dist-packages (from clip==1.0) (4.65.0)\n",
            "Requirement already satisfied: torch in /usr/local/lib/python3.10/dist-packages (from clip==1.0) (2.0.1+cu118)\n",
            "Requirement already satisfied: torchvision in /usr/local/lib/python3.10/dist-packages (from clip==1.0) (0.15.2+cu118)\n",
            "Requirement already satisfied: wcwidth>=0.2.5 in /usr/local/lib/python3.10/dist-packages (from ftfy->clip==1.0) (0.2.6)\n",
            "Requirement already satisfied: filelock in /usr/local/lib/python3.10/dist-packages (from torch->clip==1.0) (3.12.0)\n",
            "Requirement already satisfied: typing-extensions in /usr/local/lib/python3.10/dist-packages (from torch->clip==1.0) (4.5.0)\n",
            "Requirement already satisfied: sympy in /usr/local/lib/python3.10/dist-packages (from torch->clip==1.0) (1.11.1)\n",
            "Requirement already satisfied: networkx in /usr/local/lib/python3.10/dist-packages (from torch->clip==1.0) (3.1)\n",
            "Requirement already satisfied: jinja2 in /usr/local/lib/python3.10/dist-packages (from torch->clip==1.0) (3.1.2)\n",
            "Requirement already satisfied: triton==2.0.0 in /usr/local/lib/python3.10/dist-packages (from torch->clip==1.0) (2.0.0)\n",
            "Requirement already satisfied: cmake in /usr/local/lib/python3.10/dist-packages (from triton==2.0.0->torch->clip==1.0) (3.25.2)\n",
            "Requirement already satisfied: lit in /usr/local/lib/python3.10/dist-packages (from triton==2.0.0->torch->clip==1.0) (16.0.5)\n",
            "Requirement already satisfied: numpy in /usr/local/lib/python3.10/dist-packages (from torchvision->clip==1.0) (1.22.4)\n",
            "Requirement already satisfied: requests in /usr/local/lib/python3.10/dist-packages (from torchvision->clip==1.0) (2.27.1)\n",
            "Requirement already satisfied: pillow!=8.3.*,>=5.3.0 in /usr/local/lib/python3.10/dist-packages (from torchvision->clip==1.0) (8.4.0)\n",
            "Requirement already satisfied: MarkupSafe>=2.0 in /usr/local/lib/python3.10/dist-packages (from jinja2->torch->clip==1.0) (2.1.2)\n",
            "Requirement already satisfied: urllib3<1.27,>=1.21.1 in /usr/local/lib/python3.10/dist-packages (from requests->torchvision->clip==1.0) (1.26.15)\n",
            "Requirement already satisfied: certifi>=2017.4.17 in /usr/local/lib/python3.10/dist-packages (from requests->torchvision->clip==1.0) (2022.12.7)\n",
            "Requirement already satisfied: charset-normalizer~=2.0.0 in /usr/local/lib/python3.10/dist-packages (from requests->torchvision->clip==1.0) (2.0.12)\n",
            "Requirement already satisfied: idna<4,>=2.5 in /usr/local/lib/python3.10/dist-packages (from requests->torchvision->clip==1.0) (3.4)\n",
            "Requirement already satisfied: mpmath>=0.19 in /usr/local/lib/python3.10/dist-packages (from sympy->torch->clip==1.0) (1.3.0)\n",
            "Building wheels for collected packages: clip\n",
            "  Building wheel for clip (setup.py) ... \u001b[?25l\u001b[?25hdone\n",
            "  Created wheel for clip: filename=clip-1.0-py3-none-any.whl size=1369370 sha256=73bf5d828e3c4ba4e5c4b3c85bebc1323c332ce12270b99f84f2444ecb5a9cbf\n",
            "  Stored in directory: /tmp/pip-ephem-wheel-cache-m3u4f8rn/wheels/da/2b/4c/d6691fa9597aac8bb85d2ac13b112deb897d5b50f5ad9a37e4\n",
            "Successfully built clip\n",
            "Installing collected packages: clip\n",
            "Successfully installed clip-1.0\n",
            "Looking in indexes: https://pypi.org/simple, https://us-python.pkg.dev/colab-wheels/public/simple/\n",
            "Requirement already satisfied: pyarrow in /usr/local/lib/python3.10/dist-packages (9.0.0)\n",
            "Requirement already satisfied: numpy>=1.16.6 in /usr/local/lib/python3.10/dist-packages (from pyarrow) (1.22.4)\n"
          ]
        }
      ]
    },
    {
      "cell_type": "code",
      "source": [
        "import os\n",
        "import torch\n",
        "import clip\n",
        "import numpy as np\n",
        "import pandas as pd\n",
        "import pyarrow.feather as feather\n",
        "from PIL import Image\n",
        "from urllib import request\n",
        "from tqdm import tqdm\n",
        "from torch.utils.data import Dataset, DataLoader\n",
        "from torchvision import datasets, transforms"
      ],
      "metadata": {
        "id": "jnTG9jYdr7MN"
      },
      "execution_count": 23,
      "outputs": []
    },
    {
      "cell_type": "code",
      "source": [
        "device = \"cuda\" if torch.cuda.is_available() else \"cpu\"\n",
        "model, preprocess = clip.load(\"ViT-B/32\", device=device)\n",
        "device"
      ],
      "metadata": {
        "colab": {
          "base_uri": "https://localhost:8080/",
          "height": 35
        },
        "id": "p8A9eIA3vdq9",
        "outputId": "1dc83000-f3b2-4419-eb0c-cff68b273ba2"
      },
      "execution_count": 24,
      "outputs": [
        {
          "output_type": "execute_result",
          "data": {
            "text/plain": [
              "'cuda'"
            ],
            "application/vnd.google.colaboratory.intrinsic+json": {
              "type": "string"
            }
          },
          "metadata": {},
          "execution_count": 24
        }
      ]
    },
    {
      "cell_type": "code",
      "source": [
        "import json\n",
        "\n",
        "with open('/content/skin_cancer_dataset.json') as user_file:\n",
        "    ds = user_file.read()\n",
        "    \n",
        "parsed_json = json.loads(ds)\n",
        "print(parsed_json)"
      ],
      "metadata": {
        "colab": {
          "base_uri": "https://localhost:8080/"
        },
        "id": "rTO5S9QmwAbf",
        "outputId": "8981612f-0850-4888-ab85-19a3638cd30f"
      },
      "execution_count": 25,
      "outputs": [
        {
          "output_type": "stream",
          "name": "stdout",
          "text": [
            "[{'id': 0, 'cancer_type': 'Basal Cell Carcinoma (BCC)', 'cancer_img': 'https://www.skincancer.org/wp-content/uploads/basal-cell-carcinoma-2-open-sore-340x240.png', 'cancer_img_caption': 'An open sore that does not heal', 'caption_speech': 'id_0.mp3'}, {'id': 1, 'cancer_type': 'Basal Cell Carcinoma (BCC)', 'cancer_img': 'https://www.skincancer.org/wp-content/uploads/BCC-slider-1.jpg', 'cancer_img_caption': 'An open sore that bleeds, oozes, or crusts and remains open for a few weeks, only to heal up and then bleed again. ', 'caption_speech': 'id_1.mp3'}, {'id': 2, 'cancer_type': 'Basal Cell Carcinoma (BCC)', 'cancer_img': 'https://www.skincancer.org/wp-content/uploads/BCC-slider-2.jpg', 'cancer_img_caption': 'A reddish patch or irritated area', 'caption_speech': 'id_2.mp3'}, {'id': 3, 'cancer_type': 'Basal Cell Carcinoma (BCC)', 'cancer_img': 'https://www.skincancer.org/wp-content/uploads/basal-cell-carcinoma-1-shiny-bump-340x240.png', 'cancer_img_caption': 'A shiny bump or nodule', 'caption_speech': 'id_3.mp3'}, {'id': 4, 'cancer_type': 'Basal Cell Carcinoma (BCC)', 'cancer_img': 'https://www.skincancer.org/wp-content/uploads/basal-cell-carcinoma-4-scar-340x240.png', 'cancer_img_caption': 'White, yellow or waxy scar', 'caption_speech': 'id_4.mp3'}, {'id': 5, 'cancer_type': 'Basal Cell Carcinoma (BCC)', 'cancer_img': 'https://www.skincancer.org/wp-content/uploads/BCC_pigmented_Fitz_type_4_jpg_Bwr4Nu1C-340x240.jpg', 'cancer_img_caption': 'A basal cell carcinoma may be pigmented on skin of color. Photo: Andrew Alexis, MD, MPH', 'caption_speech': 'id_5.mp3'}, {'id': 6, 'cancer_type': 'Basal Cell Carcinoma (BCC)', 'cancer_img': 'https://www.skincancer.org/wp-content/uploads/bcclatinoman_sm.jpg', 'cancer_img_caption': 'BCC on the nose.', 'caption_speech': 'id_6.mp3'}, {'id': 7, 'cancer_type': 'Basal Cell Carcinoma (BCC)', 'cancer_img': 'https://www.skincancer.org/wp-content/uploads/BCC_PinkGrowth-1-340x240.jpg', 'cancer_img_caption': 'A small pink growth with a slightly raised, rolled edge and a crusted indentation in the center', 'caption_speech': 'id_7.mp3'}, {'id': 8, 'cancer_type': 'Basal Cell Carcinoma (BCC)', 'cancer_img': 'https://www.skincancer.org/wp-content/uploads/BCC-slider-4.jpg', 'cancer_img_caption': 'A shiny bump or nodule ', 'caption_speech': 'id_8.mp3'}, {'id': 9, 'cancer_type': 'Basal Cell Carcinoma (BCC)', 'cancer_img': 'https://www.skincancer.org/wp-content/uploads/Pigmented-BCC-behind-the-ear-340x240.jpeg', 'cancer_img_caption': 'Pigmented BCC behind the ear. Photo: Hugh Gloster, MD', 'caption_speech': 'id_9.mp3'}, {'id': 10, 'cancer_type': 'Basal Cell Carcinoma (BCC)', 'cancer_img': 'https://www.skincancer.org/wp-content/uploads/BCC-slider-5.jpg', 'cancer_img_caption': 'A scar-like area that is white, yellow or waxy, and often has poorly defined borders', 'caption_speech': 'id_10.mp3'}, {'id': 11, 'cancer_type': 'Basal Cell Carcinoma (BCC)', 'cancer_img': 'https://www.skincancer.org/wp-content/uploads/Pigmented-BCC-340x240.jpeg', 'cancer_img_caption': 'Pigmented BCC. Photo credit: Hugh Gloster, MD', 'caption_speech': 'id_11.mp3'}, {'id': 12, 'cancer_type': 'Basal Cell Carcinoma (BCC)', 'cancer_img': 'https://www.skincancer.org/wp-content/uploads/BCC-on-the-nose-of-an-Asian-man-340x240.jpeg', 'cancer_img_caption': 'BCC on the nose. Photo: Hugh Gloster, MD', 'caption_speech': 'id_12.mp3'}, {'id': 13, 'cancer_type': 'Basal Cell Carcinoma (BCC)', 'cancer_img': 'https://www.skincancer.org/wp-content/uploads/BCC-slider-3.jpg', 'cancer_img_caption': 'A pink growth', 'caption_speech': 'id_13.mp3'}, {'id': 14, 'cancer_type': 'Basal Cell Carcinoma (BCC)', 'cancer_img': 'https://www.skincancer.org/wp-content/uploads/EyeArticle_2-340x240.jpg', 'cancer_img_caption': 'A subtle pearly lesion in the middle of the lower eyelid’s lash line is a BCC.', 'caption_speech': 'id_14.mp3'}, {'id': 15, 'cancer_type': 'Squamous Cell Carcinoma (SCC)', 'cancer_img': 'https://www.skincancer.org/wp-content/uploads/scc-1-1.jpg', 'cancer_img_caption': 'A persistent, scaly red patch with irregular borders that sometimes crusts or bleeds.', 'caption_speech': 'id_15.mp3'}, {'id': 16, 'cancer_type': 'Squamous Cell Carcinoma (SCC)', 'cancer_img': 'https://www.skincancer.org/wp-content/uploads/Squamous-Cell-Carcinoma-3-elevated-growth-on-lip-340x240.png', 'cancer_img_caption': 'An elevated growth with a central depression that occasionally bleeds. It may rapidly increase in size.', 'caption_speech': 'id_16.mp3'}, {'id': 17, 'cancer_type': 'Squamous Cell Carcinoma (SCC)', 'cancer_img': 'https://www.skincancer.org/wp-content/uploads/scc-3.jpg', 'cancer_img_caption': 'An open sore that bleeds and crusts and persists for weeks.', 'caption_speech': 'id_17.mp3'}, {'id': 18, 'cancer_type': 'Squamous Cell Carcinoma (SCC)', 'cancer_img': 'https://www.skincancer.org/wp-content/uploads/EyeArticle_3-340x240.jpg', 'cancer_img_caption': 'This crusty spot near the eye was diagnosed as a squamous cell carcinoma (SCC).', 'caption_speech': 'id_18.mp3'}, {'id': 19, 'cancer_type': 'Squamous Cell Carcinoma (SCC)', 'cancer_img': 'https://www.skincancer.org/wp-content/uploads/Squamous-Cell-Carcinoma-1-wart-like-on-ear-304x240.png', 'cancer_img_caption': 'A wart-like growth that crusts and occasionally bleeds.', 'caption_speech': 'id_19.mp3'}, {'id': 20, 'cancer_type': 'Squamous Cell Carcinoma (SCC)', 'cancer_img': 'https://www.skincancer.org/wp-content/uploads/EyeArticle_4-340x240.jpg', 'cancer_img_caption': 'This horn-shaped growth on the lower eyelid, known as a cutaneous horn, is an SCC.', 'caption_speech': 'id_20.mp3'}, {'id': 21, 'cancer_type': 'Squamous Cell Carcinoma (SCC)', 'cancer_img': 'https://www.skincancer.org/wp-content/uploads/Squamous-Cell-Carcinoma-open-sore-that-bleeds-340x240.jpg', 'cancer_img_caption': 'An open sore that bleeds or crusts and persists for weeks.', 'caption_speech': 'id_21.mp3'}, {'id': 22, 'cancer_type': 'Squamous Cell Carcinoma (SCC)', 'cancer_img': 'https://www.skincancer.org/wp-content/uploads/Squamous-Cell-Carcinoma-2-scaly-patch-on-back-of-hand-340x240.png', 'cancer_img_caption': 'A persistent, scaly red patch with irregular borders that sometimes crusts or bleeds.', 'caption_speech': 'id_22.mp3'}, {'id': 23, 'cancer_type': 'Squamous Cell Carcinoma (SCC)', 'cancer_img': 'https://www.skincancer.org/wp-content/uploads/CSCC-on-the-scalp-of-a-Black-man-340x240.jpeg', 'cancer_img_caption': 'Squamous cell carcinoma on the scalp. Photo: Hugh Gloster, MD', 'caption_speech': 'id_23.mp3'}, {'id': 24, 'cancer_type': 'Squamous Cell Carcinoma (SCC)', 'cancer_img': 'https://www.skincancer.org/wp-content/uploads/McCarthy-Mohs-1-scc-340x240.png', 'cancer_img_caption': 'Large squamous cell carcinoma (SCC)', 'caption_speech': 'id_24.mp3'}, {'id': 25, 'cancer_type': 'Melanoma', 'cancer_img': 'https://www.skincancer.org/wp-content/uploads/melanoma_1_Asymmetry-340x240.png', 'cancer_img_caption': 'Asymmetrical melanoma', 'caption_speech': 'id_25.mp3'}, {'id': 26, 'cancer_type': 'Melanoma', 'cancer_img': 'https://www.skincancer.org/wp-content/uploads/melanoma_2_Border-340x240.png', 'cancer_img_caption': 'The borders of an early melanoma tend to be uneven. The edges may be scalloped or notched.', 'caption_speech': 'id_26.mp3'}, {'id': 27, 'cancer_type': 'Melanoma', 'cancer_img': 'https://www.skincancer.org/wp-content/uploads/melanoma_3_Color-340x240.png', 'cancer_img_caption': 'Having a mole with a variety of colors is a melanoma warning sign', 'caption_speech': 'id_27.mp3'}, {'id': 28, 'cancer_type': 'Melanoma', 'cancer_img': 'https://www.skincancer.org/wp-content/uploads/melanoma_4_Diameter-336x240.png', 'cancer_img_caption': 'Melanomas usually are larger in diameter but may be smaller when first detected', 'caption_speech': 'id_28.mp3'}, {'id': 29, 'cancer_type': 'Melanoma', 'cancer_img': 'https://www.skincancer.org/wp-content/uploads/Bill-Ridenour-Melanoma-340x240.jpg', 'cancer_img_caption': 'Stage IA melanoma ', 'caption_speech': 'id_29.mp3'}, {'id': 30, 'cancer_type': 'Melanoma', 'cancer_img': 'https://www.skincancer.org/wp-content/uploads/inter_4-subungual-melanoma-300x-300x240.jpg', 'cancer_img_caption': 'Subungual melanoma under the nail', 'caption_speech': 'id_30.mp3'}, {'id': 31, 'cancer_type': 'Melanoma', 'cancer_img': 'https://www.skincancer.org/wp-content/uploads/evolving-melanoma-journal-340x240.jpg', 'cancer_img_caption': 'Melanoma evolved and grew outward, upward and inward in a matter of months.', 'caption_speech': 'id_31.mp3'}, {'id': 32, 'cancer_type': 'Melanoma', 'cancer_img': 'https://www.skincancer.org/wp-content/uploads/figure4a.jpg', 'cancer_img_caption': 'Acral lentiginous melanoma', 'caption_speech': 'id_32.mp3'}, {'id': 33, 'cancer_type': 'Melanoma', 'cancer_img': 'https://www.skincancer.org/wp-content/uploads/Nodular-melanoma-1.3mm-upper-back-courtesy-EK-Hale-1.25.22-340x240.jpg', 'cancer_img_caption': 'Nodular melanoma 1.3mm on upper back. Photo: Elizabeth K. Hale, MD', 'caption_speech': 'id_33.mp3'}, {'id': 34, 'cancer_type': 'Melanoma', 'cancer_img': 'https://www.skincancer.org/wp-content/uploads/Superficial-melanoma-0.55mm-Upper-Arm-Courtesy-EK-Hale-1.25.22-340x240.jpg', 'cancer_img_caption': 'Superficial melanoma 0.55mm on upper arm. Photo: Elizabeth K. Hale, MD', 'caption_speech': 'id_34.mp3'}, {'id': 35, 'cancer_type': 'Melanoma', 'cancer_img': 'https://www.skincancer.org/wp-content/uploads/leg-amelanotic-melanoma-340x240.jpg', 'cancer_img_caption': 'Amelanotic melanomas may be pinkish-looking, reddish, purple, normal skin color or essentially clear and colorless', 'caption_speech': 'id_35.mp3'}, {'id': 36, 'cancer_type': 'Melanoma', 'cancer_img': 'https://www.skincancer.org/wp-content/uploads/figure4b.jpg', 'cancer_img_caption': 'Acral lentiginous melanoma', 'caption_speech': 'id_36.mp3'}, {'id': 37, 'cancer_type': 'Melanoma', 'cancer_img': 'https://www.skincancer.org/wp-content/uploads/amelanotic-melanoma-scalp-crop-340x240.png', 'cancer_img_caption': 'Amelanotic melanoma', 'caption_speech': 'id_37.mp3'}, {'id': 38, 'cancer_type': 'Melanoma', 'cancer_img': 'https://www.skincancer.org/wp-content/uploads/melanomadark1.jpg', 'cancer_img_caption': 'Dark melanoma, 4 mms.\\nPhoto: International Skin Imaging Collaboration at isic-archive.com', 'caption_speech': 'id_38.mp3'}, {'id': 39, 'cancer_type': 'Melanoma', 'cancer_img': 'https://www.skincancer.org/wp-content/uploads/melanomadark2.jpg', 'cancer_img_caption': 'Dark melanoma, 4 mms.\\nPhoto: International Skin Imaging Collaboration at isic-archive.com', 'caption_speech': 'id_39.mp3'}, {'id': 40, 'cancer_type': 'Melanoma', 'cancer_img': 'https://www.skincancer.org/wp-content/uploads/melanomadark3.jpg', 'cancer_img_caption': 'Dark melanoma, 4 mms.\\nPhoto: International Skin Imaging Collaboration at isic-archive.com', 'caption_speech': 'id_40.mp3'}, {'id': 41, 'cancer_type': 'Melanoma', 'cancer_img': 'https://www.skincancer.org/wp-content/uploads/MicrosoftTeams-image-340x240.jpg', 'cancer_img_caption': 'Melanoma, 1.3mm, right posterior shoulder. \\nPhoto: Sarah Gee, MD', 'caption_speech': 'id_41.mp3'}, {'id': 42, 'cancer_type': 'Melanoma', 'cancer_img': 'https://www.skincancer.org/wp-content/uploads/melanoma-in-situ-1-cm-on-the-right-calf-340x240.jpeg', 'cancer_img_caption': 'Melanoma in situ 1 cm on the right calf\\nPhoto: Jane Yoo, MD', 'caption_speech': 'id_42.mp3'}, {'id': 43, 'cancer_type': 'Merkel Cell Carcinoma (MCC)', 'cancer_img': 'https://www.skincancer.org/wp-content/uploads/merkel-cell-eyelid-340x240.jpg', 'cancer_img_caption': \"Merkel cell carcinoma on woman's left eyelid. Photos: Paul Nghiem, MD, PhD\", 'caption_speech': 'id_43.mp3'}, {'id': 44, 'cancer_type': 'Merkel Cell Carcinoma (MCC)', 'cancer_img': 'https://www.skincancer.org/wp-content/uploads/merkel-cell-arm-340x240.jpg', 'cancer_img_caption': 'Merkel cell carcinoma on the arm', 'caption_speech': 'id_44.mp3'}, {'id': 45, 'cancer_type': 'Merkel Cell Carcinoma (MCC)', 'cancer_img': 'https://www.skincancer.org/wp-content/uploads/merkel-cell-warning-1-340x240.png', 'cancer_img_caption': 'Merkel cell carcinoma on forehead and arm', 'caption_speech': 'id_45.mp3'}, {'id': 46, 'cancer_type': 'Merkel Cell Carcinoma (MCC)', 'cancer_img': 'https://www.skincancer.org/wp-content/uploads/NEW-Merkel-Cell-photo-for-SC101-bottom-right-3.05.18-1-340x240.jpg', 'cancer_img_caption': 'Merkel cell carcinoma on the lower leg', 'caption_speech': 'id_46.mp3'}, {'id': 47, 'cancer_type': 'Merkel Cell Carcinoma (MCC)', 'cancer_img': 'https://www.skincancer.org/wp-content/uploads/Gentry-MCC-340x240.jpg', 'cancer_img_caption': 'Bump on leg that turned out to be Merkel cell carcinoma', 'caption_speech': 'id_47.mp3'}]\n"
          ]
        }
      ]
    },
    {
      "cell_type": "code",
      "source": [
        "parsed_json"
      ],
      "metadata": {
        "id": "xXJ4PMTxHAOl",
        "colab": {
          "base_uri": "https://localhost:8080/"
        },
        "outputId": "176e7cd6-79ca-425a-d176-11629ccf9f07"
      },
      "execution_count": 26,
      "outputs": [
        {
          "output_type": "execute_result",
          "data": {
            "text/plain": [
              "[{'id': 0,\n",
              "  'cancer_type': 'Basal Cell Carcinoma (BCC)',\n",
              "  'cancer_img': 'https://www.skincancer.org/wp-content/uploads/basal-cell-carcinoma-2-open-sore-340x240.png',\n",
              "  'cancer_img_caption': 'An open sore that does not heal',\n",
              "  'caption_speech': 'id_0.mp3'},\n",
              " {'id': 1,\n",
              "  'cancer_type': 'Basal Cell Carcinoma (BCC)',\n",
              "  'cancer_img': 'https://www.skincancer.org/wp-content/uploads/BCC-slider-1.jpg',\n",
              "  'cancer_img_caption': 'An open sore that bleeds, oozes, or crusts and remains open for a few weeks, only to heal up and then bleed again. ',\n",
              "  'caption_speech': 'id_1.mp3'},\n",
              " {'id': 2,\n",
              "  'cancer_type': 'Basal Cell Carcinoma (BCC)',\n",
              "  'cancer_img': 'https://www.skincancer.org/wp-content/uploads/BCC-slider-2.jpg',\n",
              "  'cancer_img_caption': 'A reddish patch or irritated area',\n",
              "  'caption_speech': 'id_2.mp3'},\n",
              " {'id': 3,\n",
              "  'cancer_type': 'Basal Cell Carcinoma (BCC)',\n",
              "  'cancer_img': 'https://www.skincancer.org/wp-content/uploads/basal-cell-carcinoma-1-shiny-bump-340x240.png',\n",
              "  'cancer_img_caption': 'A shiny bump or nodule',\n",
              "  'caption_speech': 'id_3.mp3'},\n",
              " {'id': 4,\n",
              "  'cancer_type': 'Basal Cell Carcinoma (BCC)',\n",
              "  'cancer_img': 'https://www.skincancer.org/wp-content/uploads/basal-cell-carcinoma-4-scar-340x240.png',\n",
              "  'cancer_img_caption': 'White, yellow or waxy scar',\n",
              "  'caption_speech': 'id_4.mp3'},\n",
              " {'id': 5,\n",
              "  'cancer_type': 'Basal Cell Carcinoma (BCC)',\n",
              "  'cancer_img': 'https://www.skincancer.org/wp-content/uploads/BCC_pigmented_Fitz_type_4_jpg_Bwr4Nu1C-340x240.jpg',\n",
              "  'cancer_img_caption': 'A basal cell carcinoma may be pigmented on skin of color. Photo: Andrew Alexis, MD, MPH',\n",
              "  'caption_speech': 'id_5.mp3'},\n",
              " {'id': 6,\n",
              "  'cancer_type': 'Basal Cell Carcinoma (BCC)',\n",
              "  'cancer_img': 'https://www.skincancer.org/wp-content/uploads/bcclatinoman_sm.jpg',\n",
              "  'cancer_img_caption': 'BCC on the nose.',\n",
              "  'caption_speech': 'id_6.mp3'},\n",
              " {'id': 7,\n",
              "  'cancer_type': 'Basal Cell Carcinoma (BCC)',\n",
              "  'cancer_img': 'https://www.skincancer.org/wp-content/uploads/BCC_PinkGrowth-1-340x240.jpg',\n",
              "  'cancer_img_caption': 'A small pink growth with a slightly raised, rolled edge and a crusted indentation in the center',\n",
              "  'caption_speech': 'id_7.mp3'},\n",
              " {'id': 8,\n",
              "  'cancer_type': 'Basal Cell Carcinoma (BCC)',\n",
              "  'cancer_img': 'https://www.skincancer.org/wp-content/uploads/BCC-slider-4.jpg',\n",
              "  'cancer_img_caption': 'A shiny bump or nodule ',\n",
              "  'caption_speech': 'id_8.mp3'},\n",
              " {'id': 9,\n",
              "  'cancer_type': 'Basal Cell Carcinoma (BCC)',\n",
              "  'cancer_img': 'https://www.skincancer.org/wp-content/uploads/Pigmented-BCC-behind-the-ear-340x240.jpeg',\n",
              "  'cancer_img_caption': 'Pigmented BCC behind the ear. Photo: Hugh Gloster, MD',\n",
              "  'caption_speech': 'id_9.mp3'},\n",
              " {'id': 10,\n",
              "  'cancer_type': 'Basal Cell Carcinoma (BCC)',\n",
              "  'cancer_img': 'https://www.skincancer.org/wp-content/uploads/BCC-slider-5.jpg',\n",
              "  'cancer_img_caption': 'A scar-like area that is white, yellow or waxy, and often has poorly defined borders',\n",
              "  'caption_speech': 'id_10.mp3'},\n",
              " {'id': 11,\n",
              "  'cancer_type': 'Basal Cell Carcinoma (BCC)',\n",
              "  'cancer_img': 'https://www.skincancer.org/wp-content/uploads/Pigmented-BCC-340x240.jpeg',\n",
              "  'cancer_img_caption': 'Pigmented BCC. Photo credit: Hugh Gloster, MD',\n",
              "  'caption_speech': 'id_11.mp3'},\n",
              " {'id': 12,\n",
              "  'cancer_type': 'Basal Cell Carcinoma (BCC)',\n",
              "  'cancer_img': 'https://www.skincancer.org/wp-content/uploads/BCC-on-the-nose-of-an-Asian-man-340x240.jpeg',\n",
              "  'cancer_img_caption': 'BCC on the nose. Photo: Hugh Gloster, MD',\n",
              "  'caption_speech': 'id_12.mp3'},\n",
              " {'id': 13,\n",
              "  'cancer_type': 'Basal Cell Carcinoma (BCC)',\n",
              "  'cancer_img': 'https://www.skincancer.org/wp-content/uploads/BCC-slider-3.jpg',\n",
              "  'cancer_img_caption': 'A pink growth',\n",
              "  'caption_speech': 'id_13.mp3'},\n",
              " {'id': 14,\n",
              "  'cancer_type': 'Basal Cell Carcinoma (BCC)',\n",
              "  'cancer_img': 'https://www.skincancer.org/wp-content/uploads/EyeArticle_2-340x240.jpg',\n",
              "  'cancer_img_caption': 'A subtle pearly lesion in the middle of the lower eyelid’s lash line is a BCC.',\n",
              "  'caption_speech': 'id_14.mp3'},\n",
              " {'id': 15,\n",
              "  'cancer_type': 'Squamous Cell Carcinoma (SCC)',\n",
              "  'cancer_img': 'https://www.skincancer.org/wp-content/uploads/scc-1-1.jpg',\n",
              "  'cancer_img_caption': 'A persistent, scaly red patch with irregular borders that sometimes crusts or bleeds.',\n",
              "  'caption_speech': 'id_15.mp3'},\n",
              " {'id': 16,\n",
              "  'cancer_type': 'Squamous Cell Carcinoma (SCC)',\n",
              "  'cancer_img': 'https://www.skincancer.org/wp-content/uploads/Squamous-Cell-Carcinoma-3-elevated-growth-on-lip-340x240.png',\n",
              "  'cancer_img_caption': 'An elevated growth with a central depression that occasionally bleeds. It may rapidly increase in size.',\n",
              "  'caption_speech': 'id_16.mp3'},\n",
              " {'id': 17,\n",
              "  'cancer_type': 'Squamous Cell Carcinoma (SCC)',\n",
              "  'cancer_img': 'https://www.skincancer.org/wp-content/uploads/scc-3.jpg',\n",
              "  'cancer_img_caption': 'An open sore that bleeds and crusts and persists for weeks.',\n",
              "  'caption_speech': 'id_17.mp3'},\n",
              " {'id': 18,\n",
              "  'cancer_type': 'Squamous Cell Carcinoma (SCC)',\n",
              "  'cancer_img': 'https://www.skincancer.org/wp-content/uploads/EyeArticle_3-340x240.jpg',\n",
              "  'cancer_img_caption': 'This crusty spot near the eye was diagnosed as a squamous cell carcinoma (SCC).',\n",
              "  'caption_speech': 'id_18.mp3'},\n",
              " {'id': 19,\n",
              "  'cancer_type': 'Squamous Cell Carcinoma (SCC)',\n",
              "  'cancer_img': 'https://www.skincancer.org/wp-content/uploads/Squamous-Cell-Carcinoma-1-wart-like-on-ear-304x240.png',\n",
              "  'cancer_img_caption': 'A wart-like growth that crusts and occasionally bleeds.',\n",
              "  'caption_speech': 'id_19.mp3'},\n",
              " {'id': 20,\n",
              "  'cancer_type': 'Squamous Cell Carcinoma (SCC)',\n",
              "  'cancer_img': 'https://www.skincancer.org/wp-content/uploads/EyeArticle_4-340x240.jpg',\n",
              "  'cancer_img_caption': 'This horn-shaped growth on the lower eyelid, known as a cutaneous horn, is an SCC.',\n",
              "  'caption_speech': 'id_20.mp3'},\n",
              " {'id': 21,\n",
              "  'cancer_type': 'Squamous Cell Carcinoma (SCC)',\n",
              "  'cancer_img': 'https://www.skincancer.org/wp-content/uploads/Squamous-Cell-Carcinoma-open-sore-that-bleeds-340x240.jpg',\n",
              "  'cancer_img_caption': 'An open sore that bleeds or crusts and persists for weeks.',\n",
              "  'caption_speech': 'id_21.mp3'},\n",
              " {'id': 22,\n",
              "  'cancer_type': 'Squamous Cell Carcinoma (SCC)',\n",
              "  'cancer_img': 'https://www.skincancer.org/wp-content/uploads/Squamous-Cell-Carcinoma-2-scaly-patch-on-back-of-hand-340x240.png',\n",
              "  'cancer_img_caption': 'A persistent, scaly red patch with irregular borders that sometimes crusts or bleeds.',\n",
              "  'caption_speech': 'id_22.mp3'},\n",
              " {'id': 23,\n",
              "  'cancer_type': 'Squamous Cell Carcinoma (SCC)',\n",
              "  'cancer_img': 'https://www.skincancer.org/wp-content/uploads/CSCC-on-the-scalp-of-a-Black-man-340x240.jpeg',\n",
              "  'cancer_img_caption': 'Squamous cell carcinoma on the scalp. Photo: Hugh Gloster, MD',\n",
              "  'caption_speech': 'id_23.mp3'},\n",
              " {'id': 24,\n",
              "  'cancer_type': 'Squamous Cell Carcinoma (SCC)',\n",
              "  'cancer_img': 'https://www.skincancer.org/wp-content/uploads/McCarthy-Mohs-1-scc-340x240.png',\n",
              "  'cancer_img_caption': 'Large squamous cell carcinoma (SCC)',\n",
              "  'caption_speech': 'id_24.mp3'},\n",
              " {'id': 25,\n",
              "  'cancer_type': 'Melanoma',\n",
              "  'cancer_img': 'https://www.skincancer.org/wp-content/uploads/melanoma_1_Asymmetry-340x240.png',\n",
              "  'cancer_img_caption': 'Asymmetrical melanoma',\n",
              "  'caption_speech': 'id_25.mp3'},\n",
              " {'id': 26,\n",
              "  'cancer_type': 'Melanoma',\n",
              "  'cancer_img': 'https://www.skincancer.org/wp-content/uploads/melanoma_2_Border-340x240.png',\n",
              "  'cancer_img_caption': 'The borders of an early melanoma tend to be uneven. The edges may be scalloped or notched.',\n",
              "  'caption_speech': 'id_26.mp3'},\n",
              " {'id': 27,\n",
              "  'cancer_type': 'Melanoma',\n",
              "  'cancer_img': 'https://www.skincancer.org/wp-content/uploads/melanoma_3_Color-340x240.png',\n",
              "  'cancer_img_caption': 'Having a mole with a variety of colors is a melanoma warning sign',\n",
              "  'caption_speech': 'id_27.mp3'},\n",
              " {'id': 28,\n",
              "  'cancer_type': 'Melanoma',\n",
              "  'cancer_img': 'https://www.skincancer.org/wp-content/uploads/melanoma_4_Diameter-336x240.png',\n",
              "  'cancer_img_caption': 'Melanomas usually are larger in diameter but may be smaller when first detected',\n",
              "  'caption_speech': 'id_28.mp3'},\n",
              " {'id': 29,\n",
              "  'cancer_type': 'Melanoma',\n",
              "  'cancer_img': 'https://www.skincancer.org/wp-content/uploads/Bill-Ridenour-Melanoma-340x240.jpg',\n",
              "  'cancer_img_caption': 'Stage IA melanoma ',\n",
              "  'caption_speech': 'id_29.mp3'},\n",
              " {'id': 30,\n",
              "  'cancer_type': 'Melanoma',\n",
              "  'cancer_img': 'https://www.skincancer.org/wp-content/uploads/inter_4-subungual-melanoma-300x-300x240.jpg',\n",
              "  'cancer_img_caption': 'Subungual melanoma under the nail',\n",
              "  'caption_speech': 'id_30.mp3'},\n",
              " {'id': 31,\n",
              "  'cancer_type': 'Melanoma',\n",
              "  'cancer_img': 'https://www.skincancer.org/wp-content/uploads/evolving-melanoma-journal-340x240.jpg',\n",
              "  'cancer_img_caption': 'Melanoma evolved and grew outward, upward and inward in a matter of months.',\n",
              "  'caption_speech': 'id_31.mp3'},\n",
              " {'id': 32,\n",
              "  'cancer_type': 'Melanoma',\n",
              "  'cancer_img': 'https://www.skincancer.org/wp-content/uploads/figure4a.jpg',\n",
              "  'cancer_img_caption': 'Acral lentiginous melanoma',\n",
              "  'caption_speech': 'id_32.mp3'},\n",
              " {'id': 33,\n",
              "  'cancer_type': 'Melanoma',\n",
              "  'cancer_img': 'https://www.skincancer.org/wp-content/uploads/Nodular-melanoma-1.3mm-upper-back-courtesy-EK-Hale-1.25.22-340x240.jpg',\n",
              "  'cancer_img_caption': 'Nodular melanoma 1.3mm on upper back. Photo: Elizabeth K. Hale, MD',\n",
              "  'caption_speech': 'id_33.mp3'},\n",
              " {'id': 34,\n",
              "  'cancer_type': 'Melanoma',\n",
              "  'cancer_img': 'https://www.skincancer.org/wp-content/uploads/Superficial-melanoma-0.55mm-Upper-Arm-Courtesy-EK-Hale-1.25.22-340x240.jpg',\n",
              "  'cancer_img_caption': 'Superficial melanoma 0.55mm on upper arm. Photo: Elizabeth K. Hale, MD',\n",
              "  'caption_speech': 'id_34.mp3'},\n",
              " {'id': 35,\n",
              "  'cancer_type': 'Melanoma',\n",
              "  'cancer_img': 'https://www.skincancer.org/wp-content/uploads/leg-amelanotic-melanoma-340x240.jpg',\n",
              "  'cancer_img_caption': 'Amelanotic melanomas may be pinkish-looking, reddish, purple, normal skin color or essentially clear and colorless',\n",
              "  'caption_speech': 'id_35.mp3'},\n",
              " {'id': 36,\n",
              "  'cancer_type': 'Melanoma',\n",
              "  'cancer_img': 'https://www.skincancer.org/wp-content/uploads/figure4b.jpg',\n",
              "  'cancer_img_caption': 'Acral lentiginous melanoma',\n",
              "  'caption_speech': 'id_36.mp3'},\n",
              " {'id': 37,\n",
              "  'cancer_type': 'Melanoma',\n",
              "  'cancer_img': 'https://www.skincancer.org/wp-content/uploads/amelanotic-melanoma-scalp-crop-340x240.png',\n",
              "  'cancer_img_caption': 'Amelanotic melanoma',\n",
              "  'caption_speech': 'id_37.mp3'},\n",
              " {'id': 38,\n",
              "  'cancer_type': 'Melanoma',\n",
              "  'cancer_img': 'https://www.skincancer.org/wp-content/uploads/melanomadark1.jpg',\n",
              "  'cancer_img_caption': 'Dark melanoma, 4 mms.\\nPhoto: International Skin Imaging Collaboration at isic-archive.com',\n",
              "  'caption_speech': 'id_38.mp3'},\n",
              " {'id': 39,\n",
              "  'cancer_type': 'Melanoma',\n",
              "  'cancer_img': 'https://www.skincancer.org/wp-content/uploads/melanomadark2.jpg',\n",
              "  'cancer_img_caption': 'Dark melanoma, 4 mms.\\nPhoto: International Skin Imaging Collaboration at isic-archive.com',\n",
              "  'caption_speech': 'id_39.mp3'},\n",
              " {'id': 40,\n",
              "  'cancer_type': 'Melanoma',\n",
              "  'cancer_img': 'https://www.skincancer.org/wp-content/uploads/melanomadark3.jpg',\n",
              "  'cancer_img_caption': 'Dark melanoma, 4 mms.\\nPhoto: International Skin Imaging Collaboration at isic-archive.com',\n",
              "  'caption_speech': 'id_40.mp3'},\n",
              " {'id': 41,\n",
              "  'cancer_type': 'Melanoma',\n",
              "  'cancer_img': 'https://www.skincancer.org/wp-content/uploads/MicrosoftTeams-image-340x240.jpg',\n",
              "  'cancer_img_caption': 'Melanoma, 1.3mm, right posterior shoulder. \\nPhoto: Sarah Gee, MD',\n",
              "  'caption_speech': 'id_41.mp3'},\n",
              " {'id': 42,\n",
              "  'cancer_type': 'Melanoma',\n",
              "  'cancer_img': 'https://www.skincancer.org/wp-content/uploads/melanoma-in-situ-1-cm-on-the-right-calf-340x240.jpeg',\n",
              "  'cancer_img_caption': 'Melanoma in situ 1 cm on the right calf\\nPhoto: Jane Yoo, MD',\n",
              "  'caption_speech': 'id_42.mp3'},\n",
              " {'id': 43,\n",
              "  'cancer_type': 'Merkel Cell Carcinoma (MCC)',\n",
              "  'cancer_img': 'https://www.skincancer.org/wp-content/uploads/merkel-cell-eyelid-340x240.jpg',\n",
              "  'cancer_img_caption': \"Merkel cell carcinoma on woman's left eyelid. Photos: Paul Nghiem, MD, PhD\",\n",
              "  'caption_speech': 'id_43.mp3'},\n",
              " {'id': 44,\n",
              "  'cancer_type': 'Merkel Cell Carcinoma (MCC)',\n",
              "  'cancer_img': 'https://www.skincancer.org/wp-content/uploads/merkel-cell-arm-340x240.jpg',\n",
              "  'cancer_img_caption': 'Merkel cell carcinoma on the arm',\n",
              "  'caption_speech': 'id_44.mp3'},\n",
              " {'id': 45,\n",
              "  'cancer_type': 'Merkel Cell Carcinoma (MCC)',\n",
              "  'cancer_img': 'https://www.skincancer.org/wp-content/uploads/merkel-cell-warning-1-340x240.png',\n",
              "  'cancer_img_caption': 'Merkel cell carcinoma on forehead and arm',\n",
              "  'caption_speech': 'id_45.mp3'},\n",
              " {'id': 46,\n",
              "  'cancer_type': 'Merkel Cell Carcinoma (MCC)',\n",
              "  'cancer_img': 'https://www.skincancer.org/wp-content/uploads/NEW-Merkel-Cell-photo-for-SC101-bottom-right-3.05.18-1-340x240.jpg',\n",
              "  'cancer_img_caption': 'Merkel cell carcinoma on the lower leg',\n",
              "  'caption_speech': 'id_46.mp3'},\n",
              " {'id': 47,\n",
              "  'cancer_type': 'Merkel Cell Carcinoma (MCC)',\n",
              "  'cancer_img': 'https://www.skincancer.org/wp-content/uploads/Gentry-MCC-340x240.jpg',\n",
              "  'cancer_img_caption': 'Bump on leg that turned out to be Merkel cell carcinoma',\n",
              "  'caption_speech': 'id_47.mp3'}]"
            ]
          },
          "metadata": {},
          "execution_count": 26
        }
      ]
    },
    {
      "cell_type": "code",
      "source": [
        "tkns,final_labels = [],[]\n",
        "for i,ele in enumerate(parsed_json):\n",
        "    print(f\"{i}  -> {ele['cancer_img_caption']}\")\n",
        "    tkns.append(ele['cancer_img_caption'])\n",
        "    final_labels.append(ele['cancer_type'])"
      ],
      "metadata": {
        "colab": {
          "base_uri": "https://localhost:8080/"
        },
        "id": "wMgwMw6cwOWG",
        "outputId": "ef639425-5874-4a86-9064-70670ea1e69a"
      },
      "execution_count": 27,
      "outputs": [
        {
          "output_type": "stream",
          "name": "stdout",
          "text": [
            "0  -> An open sore that does not heal\n",
            "1  -> An open sore that bleeds, oozes, or crusts and remains open for a few weeks, only to heal up and then bleed again. \n",
            "2  -> A reddish patch or irritated area\n",
            "3  -> A shiny bump or nodule\n",
            "4  -> White, yellow or waxy scar\n",
            "5  -> A basal cell carcinoma may be pigmented on skin of color. Photo: Andrew Alexis, MD, MPH\n",
            "6  -> BCC on the nose.\n",
            "7  -> A small pink growth with a slightly raised, rolled edge and a crusted indentation in the center\n",
            "8  -> A shiny bump or nodule \n",
            "9  -> Pigmented BCC behind the ear. Photo: Hugh Gloster, MD\n",
            "10  -> A scar-like area that is white, yellow or waxy, and often has poorly defined borders\n",
            "11  -> Pigmented BCC. Photo credit: Hugh Gloster, MD\n",
            "12  -> BCC on the nose. Photo: Hugh Gloster, MD\n",
            "13  -> A pink growth\n",
            "14  -> A subtle pearly lesion in the middle of the lower eyelid’s lash line is a BCC.\n",
            "15  -> A persistent, scaly red patch with irregular borders that sometimes crusts or bleeds.\n",
            "16  -> An elevated growth with a central depression that occasionally bleeds. It may rapidly increase in size.\n",
            "17  -> An open sore that bleeds and crusts and persists for weeks.\n",
            "18  -> This crusty spot near the eye was diagnosed as a squamous cell carcinoma (SCC).\n",
            "19  -> A wart-like growth that crusts and occasionally bleeds.\n",
            "20  -> This horn-shaped growth on the lower eyelid, known as a cutaneous horn, is an SCC.\n",
            "21  -> An open sore that bleeds or crusts and persists for weeks.\n",
            "22  -> A persistent, scaly red patch with irregular borders that sometimes crusts or bleeds.\n",
            "23  -> Squamous cell carcinoma on the scalp. Photo: Hugh Gloster, MD\n",
            "24  -> Large squamous cell carcinoma (SCC)\n",
            "25  -> Asymmetrical melanoma\n",
            "26  -> The borders of an early melanoma tend to be uneven. The edges may be scalloped or notched.\n",
            "27  -> Having a mole with a variety of colors is a melanoma warning sign\n",
            "28  -> Melanomas usually are larger in diameter but may be smaller when first detected\n",
            "29  -> Stage IA melanoma \n",
            "30  -> Subungual melanoma under the nail\n",
            "31  -> Melanoma evolved and grew outward, upward and inward in a matter of months.\n",
            "32  -> Acral lentiginous melanoma\n",
            "33  -> Nodular melanoma 1.3mm on upper back. Photo: Elizabeth K. Hale, MD\n",
            "34  -> Superficial melanoma 0.55mm on upper arm. Photo: Elizabeth K. Hale, MD\n",
            "35  -> Amelanotic melanomas may be pinkish-looking, reddish, purple, normal skin color or essentially clear and colorless\n",
            "36  -> Acral lentiginous melanoma\n",
            "37  -> Amelanotic melanoma\n",
            "38  -> Dark melanoma, 4 mms.\n",
            "Photo: International Skin Imaging Collaboration at isic-archive.com\n",
            "39  -> Dark melanoma, 4 mms.\n",
            "Photo: International Skin Imaging Collaboration at isic-archive.com\n",
            "40  -> Dark melanoma, 4 mms.\n",
            "Photo: International Skin Imaging Collaboration at isic-archive.com\n",
            "41  -> Melanoma, 1.3mm, right posterior shoulder. \n",
            "Photo: Sarah Gee, MD\n",
            "42  -> Melanoma in situ 1 cm on the right calf\n",
            "Photo: Jane Yoo, MD\n",
            "43  -> Merkel cell carcinoma on woman's left eyelid. Photos: Paul Nghiem, MD, PhD\n",
            "44  -> Merkel cell carcinoma on the arm\n",
            "45  -> Merkel cell carcinoma on forehead and arm\n",
            "46  -> Merkel cell carcinoma on the lower leg\n",
            "47  -> Bump on leg that turned out to be Merkel cell carcinoma\n"
          ]
        }
      ]
    },
    {
      "cell_type": "code",
      "source": [
        "final_labels"
      ],
      "metadata": {
        "colab": {
          "base_uri": "https://localhost:8080/"
        },
        "id": "mRaHQgEAKF2g",
        "outputId": "a711871a-81ae-4b0a-c8f0-8256567f835c"
      },
      "execution_count": 28,
      "outputs": [
        {
          "output_type": "execute_result",
          "data": {
            "text/plain": [
              "['Basal Cell Carcinoma (BCC)',\n",
              " 'Basal Cell Carcinoma (BCC)',\n",
              " 'Basal Cell Carcinoma (BCC)',\n",
              " 'Basal Cell Carcinoma (BCC)',\n",
              " 'Basal Cell Carcinoma (BCC)',\n",
              " 'Basal Cell Carcinoma (BCC)',\n",
              " 'Basal Cell Carcinoma (BCC)',\n",
              " 'Basal Cell Carcinoma (BCC)',\n",
              " 'Basal Cell Carcinoma (BCC)',\n",
              " 'Basal Cell Carcinoma (BCC)',\n",
              " 'Basal Cell Carcinoma (BCC)',\n",
              " 'Basal Cell Carcinoma (BCC)',\n",
              " 'Basal Cell Carcinoma (BCC)',\n",
              " 'Basal Cell Carcinoma (BCC)',\n",
              " 'Basal Cell Carcinoma (BCC)',\n",
              " 'Squamous Cell Carcinoma (SCC)',\n",
              " 'Squamous Cell Carcinoma (SCC)',\n",
              " 'Squamous Cell Carcinoma (SCC)',\n",
              " 'Squamous Cell Carcinoma (SCC)',\n",
              " 'Squamous Cell Carcinoma (SCC)',\n",
              " 'Squamous Cell Carcinoma (SCC)',\n",
              " 'Squamous Cell Carcinoma (SCC)',\n",
              " 'Squamous Cell Carcinoma (SCC)',\n",
              " 'Squamous Cell Carcinoma (SCC)',\n",
              " 'Squamous Cell Carcinoma (SCC)',\n",
              " 'Melanoma',\n",
              " 'Melanoma',\n",
              " 'Melanoma',\n",
              " 'Melanoma',\n",
              " 'Melanoma',\n",
              " 'Melanoma',\n",
              " 'Melanoma',\n",
              " 'Melanoma',\n",
              " 'Melanoma',\n",
              " 'Melanoma',\n",
              " 'Melanoma',\n",
              " 'Melanoma',\n",
              " 'Melanoma',\n",
              " 'Melanoma',\n",
              " 'Melanoma',\n",
              " 'Melanoma',\n",
              " 'Melanoma',\n",
              " 'Melanoma',\n",
              " 'Merkel Cell Carcinoma (MCC)',\n",
              " 'Merkel Cell Carcinoma (MCC)',\n",
              " 'Merkel Cell Carcinoma (MCC)',\n",
              " 'Merkel Cell Carcinoma (MCC)',\n",
              " 'Merkel Cell Carcinoma (MCC)']"
            ]
          },
          "metadata": {},
          "execution_count": 28
        }
      ]
    },
    {
      "cell_type": "code",
      "source": [
        "len(set(final_labels))"
      ],
      "metadata": {
        "colab": {
          "base_uri": "https://localhost:8080/"
        },
        "id": "v0ex9cc3Xxrs",
        "outputId": "467fd57b-6f11-4fab-c9a6-3f3a0710e496"
      },
      "execution_count": 29,
      "outputs": [
        {
          "output_type": "execute_result",
          "data": {
            "text/plain": [
              "4"
            ]
          },
          "metadata": {},
          "execution_count": 29
        }
      ]
    },
    {
      "cell_type": "code",
      "source": [
        "import requests\n",
        "img_ids = []\n",
        "headers = {\"User-Agent\": \"Mozilla/5.0 (X11; Linux x86_64; rv:60.0) Gecko/20100101 Firefox/60.0\",\n",
        "           \"Accept\": \"text/html,application/xhtml+xml,application/xml;q=0.9,*/*;q=0.8\",\n",
        "           \"Accept-Language\": \"en-US,en;q=0.9\"\n",
        "           }\n",
        "\n",
        "for i,ele in enumerate(parsed_json):\n",
        "    print(f\"{i}  -> {ele['cancer_img']}\")\n",
        "    img_ids.append(i)\n",
        "    image_url = ele['cancer_img']\n",
        "    img_data = requests.get(url=image_url, headers=headers).content\n",
        "    with open(f'{i}.jpg', 'wb') as handler:\n",
        "        handler.write(img_data)\n"
      ],
      "metadata": {
        "colab": {
          "base_uri": "https://localhost:8080/"
        },
        "id": "ncWaBPxrwwO3",
        "outputId": "6d41d158-1357-4a06-9dd2-a3c9e6a4d90d"
      },
      "execution_count": 30,
      "outputs": [
        {
          "output_type": "stream",
          "name": "stdout",
          "text": [
            "0  -> https://www.skincancer.org/wp-content/uploads/basal-cell-carcinoma-2-open-sore-340x240.png\n",
            "1  -> https://www.skincancer.org/wp-content/uploads/BCC-slider-1.jpg\n",
            "2  -> https://www.skincancer.org/wp-content/uploads/BCC-slider-2.jpg\n",
            "3  -> https://www.skincancer.org/wp-content/uploads/basal-cell-carcinoma-1-shiny-bump-340x240.png\n",
            "4  -> https://www.skincancer.org/wp-content/uploads/basal-cell-carcinoma-4-scar-340x240.png\n",
            "5  -> https://www.skincancer.org/wp-content/uploads/BCC_pigmented_Fitz_type_4_jpg_Bwr4Nu1C-340x240.jpg\n",
            "6  -> https://www.skincancer.org/wp-content/uploads/bcclatinoman_sm.jpg\n",
            "7  -> https://www.skincancer.org/wp-content/uploads/BCC_PinkGrowth-1-340x240.jpg\n",
            "8  -> https://www.skincancer.org/wp-content/uploads/BCC-slider-4.jpg\n",
            "9  -> https://www.skincancer.org/wp-content/uploads/Pigmented-BCC-behind-the-ear-340x240.jpeg\n",
            "10  -> https://www.skincancer.org/wp-content/uploads/BCC-slider-5.jpg\n",
            "11  -> https://www.skincancer.org/wp-content/uploads/Pigmented-BCC-340x240.jpeg\n",
            "12  -> https://www.skincancer.org/wp-content/uploads/BCC-on-the-nose-of-an-Asian-man-340x240.jpeg\n",
            "13  -> https://www.skincancer.org/wp-content/uploads/BCC-slider-3.jpg\n",
            "14  -> https://www.skincancer.org/wp-content/uploads/EyeArticle_2-340x240.jpg\n",
            "15  -> https://www.skincancer.org/wp-content/uploads/scc-1-1.jpg\n",
            "16  -> https://www.skincancer.org/wp-content/uploads/Squamous-Cell-Carcinoma-3-elevated-growth-on-lip-340x240.png\n",
            "17  -> https://www.skincancer.org/wp-content/uploads/scc-3.jpg\n",
            "18  -> https://www.skincancer.org/wp-content/uploads/EyeArticle_3-340x240.jpg\n",
            "19  -> https://www.skincancer.org/wp-content/uploads/Squamous-Cell-Carcinoma-1-wart-like-on-ear-304x240.png\n",
            "20  -> https://www.skincancer.org/wp-content/uploads/EyeArticle_4-340x240.jpg\n",
            "21  -> https://www.skincancer.org/wp-content/uploads/Squamous-Cell-Carcinoma-open-sore-that-bleeds-340x240.jpg\n",
            "22  -> https://www.skincancer.org/wp-content/uploads/Squamous-Cell-Carcinoma-2-scaly-patch-on-back-of-hand-340x240.png\n",
            "23  -> https://www.skincancer.org/wp-content/uploads/CSCC-on-the-scalp-of-a-Black-man-340x240.jpeg\n",
            "24  -> https://www.skincancer.org/wp-content/uploads/McCarthy-Mohs-1-scc-340x240.png\n",
            "25  -> https://www.skincancer.org/wp-content/uploads/melanoma_1_Asymmetry-340x240.png\n",
            "26  -> https://www.skincancer.org/wp-content/uploads/melanoma_2_Border-340x240.png\n",
            "27  -> https://www.skincancer.org/wp-content/uploads/melanoma_3_Color-340x240.png\n",
            "28  -> https://www.skincancer.org/wp-content/uploads/melanoma_4_Diameter-336x240.png\n",
            "29  -> https://www.skincancer.org/wp-content/uploads/Bill-Ridenour-Melanoma-340x240.jpg\n",
            "30  -> https://www.skincancer.org/wp-content/uploads/inter_4-subungual-melanoma-300x-300x240.jpg\n",
            "31  -> https://www.skincancer.org/wp-content/uploads/evolving-melanoma-journal-340x240.jpg\n",
            "32  -> https://www.skincancer.org/wp-content/uploads/figure4a.jpg\n",
            "33  -> https://www.skincancer.org/wp-content/uploads/Nodular-melanoma-1.3mm-upper-back-courtesy-EK-Hale-1.25.22-340x240.jpg\n",
            "34  -> https://www.skincancer.org/wp-content/uploads/Superficial-melanoma-0.55mm-Upper-Arm-Courtesy-EK-Hale-1.25.22-340x240.jpg\n",
            "35  -> https://www.skincancer.org/wp-content/uploads/leg-amelanotic-melanoma-340x240.jpg\n",
            "36  -> https://www.skincancer.org/wp-content/uploads/figure4b.jpg\n",
            "37  -> https://www.skincancer.org/wp-content/uploads/amelanotic-melanoma-scalp-crop-340x240.png\n",
            "38  -> https://www.skincancer.org/wp-content/uploads/melanomadark1.jpg\n",
            "39  -> https://www.skincancer.org/wp-content/uploads/melanomadark2.jpg\n",
            "40  -> https://www.skincancer.org/wp-content/uploads/melanomadark3.jpg\n",
            "41  -> https://www.skincancer.org/wp-content/uploads/MicrosoftTeams-image-340x240.jpg\n",
            "42  -> https://www.skincancer.org/wp-content/uploads/melanoma-in-situ-1-cm-on-the-right-calf-340x240.jpeg\n",
            "43  -> https://www.skincancer.org/wp-content/uploads/merkel-cell-eyelid-340x240.jpg\n",
            "44  -> https://www.skincancer.org/wp-content/uploads/merkel-cell-arm-340x240.jpg\n",
            "45  -> https://www.skincancer.org/wp-content/uploads/merkel-cell-warning-1-340x240.png\n",
            "46  -> https://www.skincancer.org/wp-content/uploads/NEW-Merkel-Cell-photo-for-SC101-bottom-right-3.05.18-1-340x240.jpg\n",
            "47  -> https://www.skincancer.org/wp-content/uploads/Gentry-MCC-340x240.jpg\n"
          ]
        }
      ]
    },
    {
      "cell_type": "code",
      "source": [
        "labels = [\"Basal Cell Carcinoma (BCC)\",\"Squamous Cell Carcinoma (SCC)\",\"Melanoma\", \"Merkel Cell Carcinoma (MCC)\",\n",
        "              \"Actinic Keratosis\"]\n",
        "text = clip.tokenize(tkns).to(device)"
      ],
      "metadata": {
        "id": "kBrP7NNvvf_E"
      },
      "execution_count": 31,
      "outputs": []
    },
    {
      "cell_type": "code",
      "source": [
        "text.shape"
      ],
      "metadata": {
        "colab": {
          "base_uri": "https://localhost:8080/"
        },
        "id": "XSUdOrDn9OOT",
        "outputId": "b9e0b440-ee63-4c18-c9ad-32f9eefe6493"
      },
      "execution_count": 32,
      "outputs": [
        {
          "output_type": "execute_result",
          "data": {
            "text/plain": [
              "torch.Size([48, 77])"
            ]
          },
          "metadata": {},
          "execution_count": 32
        }
      ]
    },
    {
      "cell_type": "code",
      "source": [
        "# image embeddings\n",
        "images = [\n",
        "        preprocess(\n",
        "            Image.open(f\"/content/{img_id}.jpg\")\n",
        "        ) for img_id in img_ids\n",
        "    ]\n",
        "\n",
        "image_input = torch.tensor(np.stack(images)).to(device)\n",
        "image_features = model.encode_image(image_input)"
      ],
      "metadata": {
        "id": "kRWRblco-Fp3"
      },
      "execution_count": 33,
      "outputs": []
    },
    {
      "cell_type": "code",
      "source": [
        "image_features"
      ],
      "metadata": {
        "colab": {
          "base_uri": "https://localhost:8080/"
        },
        "id": "dJYK2kMu-jM7",
        "outputId": "e0276e80-b61b-4225-8968-8e214bb4ed30"
      },
      "execution_count": 34,
      "outputs": [
        {
          "output_type": "execute_result",
          "data": {
            "text/plain": [
              "tensor([[ 0.2434, -0.2942,  0.4368,  ...,  0.7529,  0.1901, -0.2384],\n",
              "        [ 0.2539, -0.2722,  0.5786,  ...,  0.7734, -0.1420, -0.5156],\n",
              "        [ 0.0046, -0.6860,  0.1312,  ...,  1.1094, -0.0214, -0.0644],\n",
              "        ...,\n",
              "        [ 0.0394, -0.3428,  0.4075,  ...,  0.8989,  0.2094, -0.3184],\n",
              "        [-0.0790, -0.4011,  0.3728,  ...,  0.7495,  0.2615, -0.0906],\n",
              "        [ 0.1292, -0.2399,  0.1924,  ...,  0.5698,  0.0909, -0.0884]],\n",
              "       device='cuda:0', dtype=torch.float16, grad_fn=<MmBackward0>)"
            ]
          },
          "metadata": {},
          "execution_count": 34
        }
      ]
    },
    {
      "cell_type": "code",
      "source": [
        "image_features.shape"
      ],
      "metadata": {
        "colab": {
          "base_uri": "https://localhost:8080/"
        },
        "id": "NCxNngA4-STB",
        "outputId": "d71ee3a4-7b65-479d-c5d5-50f73508b68c"
      },
      "execution_count": 35,
      "outputs": [
        {
          "output_type": "execute_result",
          "data": {
            "text/plain": [
              "torch.Size([48, 512])"
            ]
          },
          "metadata": {},
          "execution_count": 35
        }
      ]
    },
    {
      "cell_type": "code",
      "source": [
        "# combining two vectors\n",
        "combo = torch.cat([text,image_features],dim = 1)"
      ],
      "metadata": {
        "id": "qm7caf91-nrO"
      },
      "execution_count": 36,
      "outputs": []
    },
    {
      "cell_type": "code",
      "source": [
        "combo"
      ],
      "metadata": {
        "colab": {
          "base_uri": "https://localhost:8080/"
        },
        "id": "5X_Nna63_R9v",
        "outputId": "c31fb4ce-f03d-4c2c-dc89-3184a1e5a2ab"
      },
      "execution_count": 37,
      "outputs": [
        {
          "output_type": "execute_result",
          "data": {
            "text/plain": [
              "tensor([[ 4.9408e+04,  5.5000e+02,  1.4880e+03,  ...,  7.5293e-01,\n",
              "          1.9006e-01, -2.3840e-01],\n",
              "        [ 4.9408e+04,  5.5000e+02,  1.4880e+03,  ...,  7.7344e-01,\n",
              "         -1.4197e-01, -5.1562e-01],\n",
              "        [ 4.9408e+04,  3.2000e+02,  4.3392e+04,  ...,  1.1094e+00,\n",
              "         -2.1423e-02, -6.4392e-02],\n",
              "        ...,\n",
              "        [ 4.9408e+04,  2.4720e+04,  5.5320e+03,  ...,  8.9893e-01,\n",
              "          2.0935e-01, -3.1836e-01],\n",
              "        [ 4.9408e+04,  2.4720e+04,  5.5320e+03,  ...,  7.4951e-01,\n",
              "          2.6147e-01, -9.0637e-02],\n",
              "        [ 4.9408e+04,  1.5880e+04,  5.2500e+02,  ...,  5.6982e-01,\n",
              "          9.0881e-02, -8.8379e-02]], device='cuda:0', dtype=torch.float16,\n",
              "       grad_fn=<CatBackward0>)"
            ]
          },
          "metadata": {},
          "execution_count": 37
        }
      ]
    },
    {
      "cell_type": "code",
      "source": [
        "combo.shape"
      ],
      "metadata": {
        "colab": {
          "base_uri": "https://localhost:8080/"
        },
        "id": "q0Nm7AyjJnqa",
        "outputId": "39396794-6ebe-4b10-b369-98890042b8e4"
      },
      "execution_count": 38,
      "outputs": [
        {
          "output_type": "execute_result",
          "data": {
            "text/plain": [
              "torch.Size([48, 589])"
            ]
          },
          "metadata": {},
          "execution_count": 38
        }
      ]
    },
    {
      "cell_type": "code",
      "source": [
        "# combo_embed = torch.nn.functional.normalize(combo)"
      ],
      "metadata": {
        "id": "wW55o3q_MsBX"
      },
      "execution_count": 39,
      "outputs": []
    },
    {
      "cell_type": "code",
      "source": [
        "combo_embedding = combo.cpu().detach().numpy()"
      ],
      "metadata": {
        "id": "71IZybd1_U7p"
      },
      "execution_count": 40,
      "outputs": []
    },
    {
      "cell_type": "markdown",
      "source": [
        "## Random Forest Classifier"
      ],
      "metadata": {
        "id": "RXyOL5h04A1Y"
      }
    },
    {
      "cell_type": "code",
      "source": [
        "# imports\n",
        "import pandas as pd\n",
        "import numpy as np\n",
        "\n",
        "from sklearn.ensemble import RandomForestClassifier\n",
        "from sklearn.model_selection import train_test_split\n",
        "from sklearn.metrics import classification_report, accuracy_score\n",
        "\n",
        "# load data\n",
        "\n",
        "# df = pd.read_csv(datafile_path)\n",
        "# df[\"embedding\"] = df.embedding.apply(eval).apply(np.array)  # convert string to array\n",
        "\n",
        "# split data into train and test\n",
        "X_train, X_test, y_train, y_test = train_test_split(\n",
        "    combo_embedding, final_labels, test_size=0.2, random_state=42\n",
        ")\n",
        "\n",
        "# train random forest classifier\n",
        "clf = RandomForestClassifier(n_estimators=100)\n",
        "clf.fit(X_train, y_train)\n",
        "preds = clf.predict(X_test)\n",
        "probas = clf.predict_proba(X_test)\n",
        "\n",
        "report = classification_report(y_test, preds)\n",
        "print(report)"
      ],
      "metadata": {
        "id": "pvL3rZx8F4F5",
        "colab": {
          "base_uri": "https://localhost:8080/"
        },
        "outputId": "835d9891-de37-4baa-ccf0-259a26485534"
      },
      "execution_count": 41,
      "outputs": [
        {
          "output_type": "stream",
          "name": "stdout",
          "text": [
            "                               precision    recall  f1-score   support\n",
            "\n",
            "   Basal Cell Carcinoma (BCC)       0.40      1.00      0.57         2\n",
            "                     Melanoma       0.75      0.60      0.67         5\n",
            "  Merkel Cell Carcinoma (MCC)       0.00      0.00      0.00         1\n",
            "Squamous Cell Carcinoma (SCC)       0.00      0.00      0.00         2\n",
            "\n",
            "                     accuracy                           0.50        10\n",
            "                    macro avg       0.29      0.40      0.31        10\n",
            "                 weighted avg       0.45      0.50      0.45        10\n",
            "\n"
          ]
        },
        {
          "output_type": "stream",
          "name": "stderr",
          "text": [
            "/usr/local/lib/python3.10/dist-packages/sklearn/metrics/_classification.py:1344: UndefinedMetricWarning: Precision and F-score are ill-defined and being set to 0.0 in labels with no predicted samples. Use `zero_division` parameter to control this behavior.\n",
            "  _warn_prf(average, modifier, msg_start, len(result))\n",
            "/usr/local/lib/python3.10/dist-packages/sklearn/metrics/_classification.py:1344: UndefinedMetricWarning: Precision and F-score are ill-defined and being set to 0.0 in labels with no predicted samples. Use `zero_division` parameter to control this behavior.\n",
            "  _warn_prf(average, modifier, msg_start, len(result))\n",
            "/usr/local/lib/python3.10/dist-packages/sklearn/metrics/_classification.py:1344: UndefinedMetricWarning: Precision and F-score are ill-defined and being set to 0.0 in labels with no predicted samples. Use `zero_division` parameter to control this behavior.\n",
            "  _warn_prf(average, modifier, msg_start, len(result))\n"
          ]
        }
      ]
    },
    {
      "cell_type": "code",
      "source": [
        "from sklearn.svm import SVC ,SVR\n",
        "\n",
        "# split data into train and test\n",
        "X_train, X_test, y_train, y_test = train_test_split(\n",
        "    combo_embedding, final_labels, test_size=0.2, random_state=42\n",
        ")\n",
        "\n",
        "svc_model = SVC(kernel='rbf', C = 2)\n",
        "svc_model.fit(X_train, y_train)\n",
        "# for validation data\n",
        "preds = svc_model.predict(X_test)\n",
        "\n",
        "report = classification_report(y_test, preds)\n",
        "print(report)"
      ],
      "metadata": {
        "colab": {
          "base_uri": "https://localhost:8080/"
        },
        "id": "hMQ_qD_48Uut",
        "outputId": "84ca0750-50f4-4ee4-f449-f5a6a613b7bc"
      },
      "execution_count": 46,
      "outputs": [
        {
          "output_type": "stream",
          "name": "stdout",
          "text": [
            "                               precision    recall  f1-score   support\n",
            "\n",
            "   Basal Cell Carcinoma (BCC)       0.29      1.00      0.44         2\n",
            "                     Melanoma       1.00      0.60      0.75         5\n",
            "  Merkel Cell Carcinoma (MCC)       0.00      0.00      0.00         1\n",
            "Squamous Cell Carcinoma (SCC)       0.00      0.00      0.00         2\n",
            "\n",
            "                     accuracy                           0.50        10\n",
            "                    macro avg       0.32      0.40      0.30        10\n",
            "                 weighted avg       0.56      0.50      0.46        10\n",
            "\n"
          ]
        },
        {
          "output_type": "stream",
          "name": "stderr",
          "text": [
            "/usr/local/lib/python3.10/dist-packages/sklearn/metrics/_classification.py:1344: UndefinedMetricWarning: Precision and F-score are ill-defined and being set to 0.0 in labels with no predicted samples. Use `zero_division` parameter to control this behavior.\n",
            "  _warn_prf(average, modifier, msg_start, len(result))\n",
            "/usr/local/lib/python3.10/dist-packages/sklearn/metrics/_classification.py:1344: UndefinedMetricWarning: Precision and F-score are ill-defined and being set to 0.0 in labels with no predicted samples. Use `zero_division` parameter to control this behavior.\n",
            "  _warn_prf(average, modifier, msg_start, len(result))\n",
            "/usr/local/lib/python3.10/dist-packages/sklearn/metrics/_classification.py:1344: UndefinedMetricWarning: Precision and F-score are ill-defined and being set to 0.0 in labels with no predicted samples. Use `zero_division` parameter to control this behavior.\n",
            "  _warn_prf(average, modifier, msg_start, len(result))\n"
          ]
        }
      ]
    },
    {
      "cell_type": "code",
      "source": [
        "text_embed = text.cpu().detach().numpy()\n",
        "\n",
        "\n",
        "X_train, X_test, y_train, y_test = train_test_split(\n",
        "    text_embed, final_labels, test_size=0.2, random_state=42\n",
        ")\n",
        "\n",
        "# train random forest classifier\n",
        "clf = RandomForestClassifier(n_estimators=100)\n",
        "clf.fit(X_train, y_train)\n",
        "preds = clf.predict(X_test)\n",
        "probas = clf.predict_proba(X_test)\n",
        "\n",
        "report = classification_report(y_test, preds)\n",
        "print(report)"
      ],
      "metadata": {
        "id": "lQPz-WrAwjPb",
        "colab": {
          "base_uri": "https://localhost:8080/"
        },
        "outputId": "0b512f83-2c5d-42e4-d6da-537827d73ad1"
      },
      "execution_count": 42,
      "outputs": [
        {
          "output_type": "stream",
          "name": "stdout",
          "text": [
            "                               precision    recall  f1-score   support\n",
            "\n",
            "   Basal Cell Carcinoma (BCC)       0.29      1.00      0.44         2\n",
            "                     Melanoma       0.67      0.40      0.50         5\n",
            "  Merkel Cell Carcinoma (MCC)       0.00      0.00      0.00         1\n",
            "Squamous Cell Carcinoma (SCC)       0.00      0.00      0.00         2\n",
            "\n",
            "                     accuracy                           0.40        10\n",
            "                    macro avg       0.24      0.35      0.24        10\n",
            "                 weighted avg       0.39      0.40      0.34        10\n",
            "\n"
          ]
        },
        {
          "output_type": "stream",
          "name": "stderr",
          "text": [
            "/usr/local/lib/python3.10/dist-packages/sklearn/metrics/_classification.py:1344: UndefinedMetricWarning: Precision and F-score are ill-defined and being set to 0.0 in labels with no predicted samples. Use `zero_division` parameter to control this behavior.\n",
            "  _warn_prf(average, modifier, msg_start, len(result))\n",
            "/usr/local/lib/python3.10/dist-packages/sklearn/metrics/_classification.py:1344: UndefinedMetricWarning: Precision and F-score are ill-defined and being set to 0.0 in labels with no predicted samples. Use `zero_division` parameter to control this behavior.\n",
            "  _warn_prf(average, modifier, msg_start, len(result))\n",
            "/usr/local/lib/python3.10/dist-packages/sklearn/metrics/_classification.py:1344: UndefinedMetricWarning: Precision and F-score are ill-defined and being set to 0.0 in labels with no predicted samples. Use `zero_division` parameter to control this behavior.\n",
            "  _warn_prf(average, modifier, msg_start, len(result))\n"
          ]
        }
      ]
    },
    {
      "cell_type": "code",
      "source": [
        "img_embed = image_features.cpu().detach().numpy()\n",
        "X_train, X_test, y_train, y_test = train_test_split(\n",
        "    img_embed, final_labels, test_size=0.2, random_state=42\n",
        ")\n",
        "\n",
        "# train random forest classifier\n",
        "clf = RandomForestClassifier(n_estimators=100)\n",
        "clf.fit(X_train, y_train)\n",
        "preds = clf.predict(X_test)\n",
        "probas = clf.predict_proba(X_test)\n",
        "\n",
        "report = classification_report(y_test, preds)\n",
        "print(report)"
      ],
      "metadata": {
        "id": "sCSEI-7nF3du",
        "colab": {
          "base_uri": "https://localhost:8080/"
        },
        "outputId": "dff9667b-3238-41de-bbe2-b3eb09c09107"
      },
      "execution_count": 43,
      "outputs": [
        {
          "output_type": "stream",
          "name": "stdout",
          "text": [
            "                               precision    recall  f1-score   support\n",
            "\n",
            "   Basal Cell Carcinoma (BCC)       0.17      0.50      0.25         2\n",
            "                     Melanoma       1.00      0.40      0.57         5\n",
            "  Merkel Cell Carcinoma (MCC)       0.00      0.00      0.00         1\n",
            "Squamous Cell Carcinoma (SCC)       0.00      0.00      0.00         2\n",
            "\n",
            "                     accuracy                           0.30        10\n",
            "                    macro avg       0.29      0.23      0.21        10\n",
            "                 weighted avg       0.53      0.30      0.34        10\n",
            "\n"
          ]
        },
        {
          "output_type": "stream",
          "name": "stderr",
          "text": [
            "/usr/local/lib/python3.10/dist-packages/sklearn/metrics/_classification.py:1344: UndefinedMetricWarning: Precision and F-score are ill-defined and being set to 0.0 in labels with no predicted samples. Use `zero_division` parameter to control this behavior.\n",
            "  _warn_prf(average, modifier, msg_start, len(result))\n",
            "/usr/local/lib/python3.10/dist-packages/sklearn/metrics/_classification.py:1344: UndefinedMetricWarning: Precision and F-score are ill-defined and being set to 0.0 in labels with no predicted samples. Use `zero_division` parameter to control this behavior.\n",
            "  _warn_prf(average, modifier, msg_start, len(result))\n",
            "/usr/local/lib/python3.10/dist-packages/sklearn/metrics/_classification.py:1344: UndefinedMetricWarning: Precision and F-score are ill-defined and being set to 0.0 in labels with no predicted samples. Use `zero_division` parameter to control this behavior.\n",
            "  _warn_prf(average, modifier, msg_start, len(result))\n"
          ]
        }
      ]
    },
    {
      "cell_type": "markdown",
      "source": [
        "# LSTM Model"
      ],
      "metadata": {
        "id": "N5vFH2QKR0mX"
      }
    },
    {
      "cell_type": "code",
      "source": [
        "from torch.utils.data import Dataset, DataLoader\n",
        "from sklearn.metrics import mean_squared_error\n",
        "import torch.nn as nn\n",
        "import torch.nn.functional as F\n",
        "\n",
        "\n",
        "mp_labels_2_num = {\"Basal Cell Carcinoma (BCC)\":0,\"Squamous Cell Carcinoma (SCC)\":1,\"Melanoma\":2, \"Merkel Cell Carcinoma (MCC)\":3}\n",
        "\n",
        "final_labels_2 = [mp_labels_2_num[x] for x in final_labels]\n",
        "\n",
        "X_train, X_test, y_train, y_test = train_test_split(\n",
        "    combo_embedding, final_labels_2, test_size=0.2, random_state=42\n",
        ")\n",
        "\n",
        "\n",
        "class cancerDataset(Dataset):\n",
        "    def __init__(self, X, Y):\n",
        "        self.X = X\n",
        "        self.y = Y\n",
        "        \n",
        "    def __len__(self):\n",
        "        return len(self.y)\n",
        "    \n",
        "    def __getitem__(self, idx):\n",
        "        #return torch.from_numpy(self.X[idx].astype(np.int32)), self.y[idx] #, self.X[idx]\n",
        "        return torch.from_numpy(self.X[idx]), self.y[idx]\n",
        "train_ds = cancerDataset(X_train, y_train)\n",
        "valid_ds = cancerDataset(X_test, y_test)\n",
        "\n",
        "\n",
        "batch_size = 10\n",
        "vocab_size = 589  #len(words)\n",
        "train_dl = DataLoader(train_ds, batch_size=batch_size, shuffle=True)\n",
        "val_dl = DataLoader(valid_ds, batch_size=batch_size)\n",
        "\n",
        "\n",
        "\n",
        "\n",
        "\n",
        "def train_model(model, epochs=10, lr=0.001):\n",
        "    parameters = filter(lambda p: p.requires_grad, model.parameters())\n",
        "    optimizer = torch.optim.Adam(parameters, lr=lr)\n",
        "    for i in range(epochs):\n",
        "        model.train()\n",
        "        sum_loss = 0.0\n",
        "        total = 0\n",
        "        for x, y in train_dl:\n",
        "            # x = x.type(torch.float32)\n",
        "            # y = y.type(torch.float32)\n",
        "            # print(x.dtype)\n",
        "\n",
        "            x = x.long()\n",
        "            y = y.double()\n",
        "            print(x.shape)\n",
        "            print(y.shape)\n",
        "            y_pred = []\n",
        "            for xi in x:\n",
        "              y_pred.append(model(x))\n",
        "            # print(y_pred.shape)\n",
        "            # y_pred = torch.max(y_pred, 1)[1]\n",
        "            y_pred = torch.Tensor(y_pred)\n",
        "            y_pred = y_pred.double()\n",
        "            print(f\"ypred {y_pred}. yactual {y}\")\n",
        "            optimizer.zero_grad()\n",
        "            loss = F.cross_entropy(y_pred, y)\n",
        "            loss.backward()\n",
        "            optimizer.step()\n",
        "            sum_loss += loss.item()*y.shape[0]\n",
        "            total += y.shape[0]\n",
        "        val_loss, val_acc, val_rmse = validation_metrics(model, val_dl)\n",
        "        if i % 5 == 1:\n",
        "            print(\"train loss %.3f, val loss %.3f, val accuracy %.3f, and val rmse %.3f\" % (sum_loss/total, val_loss, val_acc, val_rmse))\n",
        "\n",
        "def validation_metrics (model, valid_dl):\n",
        "    model.eval()\n",
        "    correct = 0\n",
        "    total = 0\n",
        "    sum_loss = 0.0\n",
        "    sum_rmse = 0.0\n",
        "    for x, y in valid_dl:\n",
        "        # x = x.long()\n",
        "        # y = y.long()\n",
        "        y_hat = model(x)\n",
        "        loss = F.cross_entropy(y_hat, y)\n",
        "        pred = torch.max(y_hat, 1)[1]\n",
        "        correct += (pred == y).float().sum()\n",
        "        total += y.shape[0]\n",
        "        sum_loss += loss.item()*y.shape[0]\n",
        "        sum_rmse += np.sqrt(mean_squared_error(pred, y.unsqueeze(-1)))*y.shape[0]\n",
        "    return sum_loss/total, correct/total, sum_rmse/total\n",
        "\n",
        "\n",
        "\n",
        "class LSTM_fixed_len(torch.nn.Module) :\n",
        "    def __init__(self, vocab_size, embedding_dim, hidden_dim) :\n",
        "        super().__init__()\n",
        "\n",
        "        self.embeddings = nn.Embedding(vocab_size, embedding_dim, padding_idx=0)\n",
        "        # model2 = nn.LSTM(input_size=7, hidden_size=3, num_layers=1, batch_first=True)\n",
        "\n",
        "        self.lstm = nn.LSTM(embedding_dim, hidden_dim, batch_first=True).type(torch.float32)\n",
        "        self.linear = nn.Linear(hidden_dim, 4).type(torch.float32)\n",
        "        \n",
        "        self.dropout = nn.Dropout(0.2)\n",
        "        \n",
        "    def forward(self, x):\n",
        "        print(\"IN FOrward\")\n",
        "        x = x.type(torch.float32)\n",
        "\n",
        "        print(x.shape)\n",
        "        print(x.dtype)\n",
        "        print(self.linear.weight.dtype)\n",
        "        # x = self.embeddings(x)\n",
        "        x = self.dropout(x)\n",
        "        lstm_out, (ht, ct) = self.lstm(x)\n",
        "        print(ht)\n",
        "        return torch.argmax(self.linear(ht[-1]))\n",
        "\n",
        "\n",
        "model_fixed =  LSTM_fixed_len(589, 589, 50)\n",
        "\n",
        "train_model(model_fixed, epochs=5, lr=0.01)\n"
      ],
      "metadata": {
        "id": "WbnokfvqW-d8"
      },
      "execution_count": null,
      "outputs": []
    },
    {
      "cell_type": "code",
      "source": [],
      "metadata": {
        "id": "wuVcyGVDbkNK"
      },
      "execution_count": null,
      "outputs": []
    },
    {
      "cell_type": "code",
      "source": [],
      "metadata": {
        "id": "a4UNoimRcL5D"
      },
      "execution_count": null,
      "outputs": []
    },
    {
      "cell_type": "code",
      "source": [],
      "metadata": {
        "id": "vFi_jczIR_xS"
      },
      "execution_count": null,
      "outputs": []
    },
    {
      "cell_type": "code",
      "source": [],
      "metadata": {
        "id": "EXAAtYq4Qoce"
      },
      "execution_count": null,
      "outputs": []
    },
    {
      "cell_type": "code",
      "source": [],
      "metadata": {
        "id": "gghMYZMlQofF"
      },
      "execution_count": null,
      "outputs": []
    },
    {
      "cell_type": "code",
      "source": [],
      "metadata": {
        "id": "rFOXaGNwQoht"
      },
      "execution_count": null,
      "outputs": []
    },
    {
      "cell_type": "code",
      "source": [],
      "metadata": {
        "id": "Jj6GUeILQoj8"
      },
      "execution_count": null,
      "outputs": []
    },
    {
      "cell_type": "code",
      "source": [
        "# BATCH_SIZE = 10\n",
        "# ln = len(img_ids)\n",
        "\n",
        "# results = []\n",
        "\n",
        "# for i in tqdm(range(0,ln,BATCH_SIZE)):\n",
        "#     images = [\n",
        "#         preprocess(\n",
        "#             Image.open(f\"/content/{img_id}.jpg\")\n",
        "#         ) for img_id in img_ids[i:i+BATCH_SIZE]\n",
        "#     ]\n",
        "#     image_input = torch.tensor(np.stack(images)).to(device)\n",
        "#     with torch.no_grad():\n",
        "#         image_features = model.encode_image(image_input)\n",
        "#         logits_per_image, logits_per_text = model(image_input, text)\n",
        "#         # The softmax function takes the original confidence and applys a transform to make all the confidence add up to one\n",
        "#         probs = logits_per_image.softmax(dim=-1).cpu().numpy()\n",
        "#         results.append(probs)\n",
        "\n",
        "# res = np.concatenate(results,axis=0)\n",
        "# choices = np.argmax(res,axis=1)\n",
        "# print(choices.shape)\n",
        "# getlabel = lambda x:labels[x]\n",
        "# vgetlabel = np.vectorize(getlabel)\n",
        "# times = vgetlabel(choices)\n",
        "# print(times)"
      ],
      "metadata": {
        "id": "5_mhf12Rxd8V"
      },
      "execution_count": null,
      "outputs": []
    },
    {
      "cell_type": "code",
      "source": [],
      "metadata": {
        "id": "fIjXNXatlImH"
      },
      "execution_count": null,
      "outputs": []
    }
  ]
}